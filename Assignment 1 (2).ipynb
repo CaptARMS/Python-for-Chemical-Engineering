{
 "cells": [
  {
   "cell_type": "code",
   "execution_count": 41,
   "id": "249c965e",
   "metadata": {},
   "outputs": [
    {
     "name": "stdout",
     "output_type": "stream",
     "text": [
      "Viscosity of liquid: 0.0016\n",
      "Radius of the sphere: 0.01\n",
      "Density of sphere: 7874\n",
      "Density of the liquid: 1000\n"
     ]
    }
   ],
   "source": [
    "n=float(input(\"Viscosity of liquid: \"))\n",
    "r=float(input(\"Radius of the sphere: \"))\n",
    "ps=float(input(\"Density of sphere: \"))\n",
    "pl=float(input(\"Density of the liquid: \"))\n",
    "g=9.81"
   ]
  },
  {
   "cell_type": "code",
   "execution_count": 42,
   "id": "ddfd7bc7",
   "metadata": {},
   "outputs": [],
   "source": [
    "v_prev=0\n",
    "T=0.01\n",
    "tol=1e-10\n",
    "error=1"
   ]
  },
  {
   "cell_type": "code",
   "execution_count": 43,
   "id": "6eee4e4b",
   "metadata": {},
   "outputs": [],
   "source": [
    "while (error > tol):\n",
    "    del_v=(ps-pl)*g/ps-4.5*n*v_prev/(ps*r*r)\n",
    "    v=v_prev + del_v*T\n",
    "    error=(v-v_prev)/v\n",
    "    v_prev=v"
   ]
  },
  {
   "cell_type": "code",
   "execution_count": 44,
   "id": "18b3c9fd",
   "metadata": {},
   "outputs": [
    {
     "name": "stdout",
     "output_type": "stream",
     "text": [
      "936.5814758857339\n"
     ]
    }
   ],
   "source": [
    "print(v)"
   ]
  }
 ],
 "metadata": {
  "kernelspec": {
   "display_name": "Python 3 (ipykernel)",
   "language": "python",
   "name": "python3"
  },
  "language_info": {
   "codemirror_mode": {
    "name": "ipython",
    "version": 3
   },
   "file_extension": ".py",
   "mimetype": "text/x-python",
   "name": "python",
   "nbconvert_exporter": "python",
   "pygments_lexer": "ipython3",
   "version": "3.9.12"
  }
 },
 "nbformat": 4,
 "nbformat_minor": 5
}
