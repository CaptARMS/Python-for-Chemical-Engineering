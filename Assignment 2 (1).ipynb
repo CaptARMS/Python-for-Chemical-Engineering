{
 "cells": [
  {
   "cell_type": "code",
   "execution_count": 3,
   "id": "144c9764",
   "metadata": {},
   "outputs": [],
   "source": [
    "import numpy as np\n",
    "import matplotlib.pyplot as plt\n",
    "import matplotlib.animation as animation\n",
    "from matplotlib.animation import FuncAnimation"
   ]
  },
  {
   "cell_type": "code",
   "execution_count": 4,
   "id": "e5dab299",
   "metadata": {},
   "outputs": [],
   "source": [
    "#defining basic variables\n",
    "x=50\n",
    "y=50\n",
    "del_x=1\n",
    "del_y=1\n",
    "alpha=2\n",
    "t_iter=500\n",
    "del_t=0.1"
   ]
  },
  {
   "cell_type": "code",
   "execution_count": 5,
   "id": "4b9f0bf2",
   "metadata": {},
   "outputs": [],
   "source": [
    "#calculating gamma\n",
    "Y=(alpha*del_t)/(del_x**2)"
   ]
  },
  {
   "cell_type": "code",
   "execution_count": 11,
   "id": "1be26383",
   "metadata": {},
   "outputs": [],
   "source": [
    "#Initializing the temperature matrix\n",
    "T=np.zeros((x,y,t_iter))\n",
    "\n",
    "#Boundary conditions:\n",
    "T[x-1,:,:]=100\n",
    "# T[:,y-1,:]=50\n",
    "# print(T[1,:,:])"
   ]
  },
  {
   "cell_type": "code",
   "execution_count": 12,
   "id": "d1409726",
   "metadata": {},
   "outputs": [],
   "source": [
    "#defining the function to calculate T grid\n",
    "def heat_flow(T):\n",
    "    for k in range(0,t_iter-1,1):\n",
    "        for i in range(1,x-1,1):\n",
    "            for j in range(1,y-1,1):\n",
    "                T[i,j,k+1]=Y*(T[i+1,j,k] + T[i-1,j,k] + T[i,j+1,k] + T[i,j-1,k] - 4*T[i,j,k]) + T[i,j,k]\n",
    "    return T"
   ]
  },
  {
   "cell_type": "code",
   "execution_count": 19,
   "id": "b76df7af",
   "metadata": {},
   "outputs": [],
   "source": [
    "#function to plot the variation of T\n",
    "def pmap(T,k):\n",
    "    plt.clf()\n",
    "    plt.xlabel(\"y\")\n",
    "    plt.ylabel(\"x\")\n",
    "    plt.pcolormesh(T, cmap=plt.cm.jet, vmin=0, vmax=100)\n",
    "    plt.colorbar()\n",
    "    return plt"
   ]
  },
  {
   "cell_type": "code",
   "execution_count": 17,
   "id": "51219a66",
   "metadata": {},
   "outputs": [],
   "source": [
    "T=heat_flow(T)"
   ]
  },
  {
   "cell_type": "code",
   "execution_count": 18,
   "id": "20987595",
   "metadata": {},
   "outputs": [
    {
     "name": "stderr",
     "output_type": "stream",
     "text": [
      "MovieWriter ffmpeg unavailable; using Pillow instead.\n"
     ]
    },
    {
     "data": {
      "image/png": "[encoded data removed]",
      "text/plain": [
       "<Figure size 432x288 with 2 Axes>"
      ]
     },
     "metadata": {
      "needs_background": "light"
     },
     "output_type": "display_data"
    }
   ],
   "source": [
    "def animate(k):\n",
    "    pmap(T[:,:,k],k)\n",
    "\n",
    "anim = animation.FuncAnimation(plt.figure(), animate, interval=1, frames=t_iter-1, repeat=False)\n",
    "anim.save(\"Sheet.gif\")"
   ]
  },
  {
   "cell_type": "code",
   "execution_count": null,
   "id": "678215e3",
   "metadata": {},
   "outputs": [],
   "source": []
  }
 ],
 "metadata": {
  "kernelspec": {
   "display_name": "Python 3 (ipykernel)",
   "language": "python",
   "name": "python3"
  },
  "language_info": {
   "codemirror_mode": {
    "name": "ipython",
    "version": 3
   },
   "file_extension": ".py",
   "mimetype": "text/x-python",
   "name": "python",
   "nbconvert_exporter": "python",
   "pygments_lexer": "ipython3",
   "version": "3.9.12"
  }
 },
 "nbformat": 4,
 "nbformat_minor": 5
}
