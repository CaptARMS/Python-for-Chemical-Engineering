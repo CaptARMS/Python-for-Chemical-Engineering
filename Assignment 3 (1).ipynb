{
 "cells": [
  {
   "cell_type": "code",
   "execution_count": 52,
   "id": "f4428176",
   "metadata": {},
   "outputs": [],
   "source": [
    "import numpy as np\n",
    "import matplotlib.pyplot as plt\n",
    "import matplotlib.animation as animation\n",
    "from matplotlib.animation import FuncAnimation"
   ]
  },
  {
   "cell_type": "code",
   "execution_count": 98,
   "id": "3bee39c9",
   "metadata": {},
   "outputs": [],
   "source": [
    "#given parameters\n",
    "L=50 # pipe length\n",
    "r=0.1 # pipe radius\n",
    "n=100 # of nodes used\n",
    "m= 3 # kg/s mass rate flow\n",
    "Cp=4180 # J/kg* K heat capacity of water\n",
    "rho= 1000 # kg/mg^3, density of water\n",
    "pi=3.14159\n",
    "\n",
    "Ti=400 #K, pipe inlet temperature\n",
    "T0= 300 #K, pipe fluid initial temperature\n",
    "\n",
    "q_flux= 100000 # W/m^2, heat flux in fluid\n",
    "\n",
    "t_final =700 #s, simulation time\n",
    "dt=1 #s, time step\n",
    "dx=L/n #m, node thickness"
   ]
  },
  {
   "cell_type": "code",
   "execution_count": 99,
   "id": "9e5ae084",
   "metadata": {},
   "outputs": [],
   "source": [
    "x=np.linspace(dx,L-dx/2,n)\n",
    "T=np.zeros(n)\n",
    "dTdt=np.zeros(n)\n",
    "T.fill(T0)\n",
    "T_i=np.zeros((t_final,n))\n",
    "t=np.arange(0,t_final,dt)\n",
    "Tss=Ti+q_flux*2*pi*r*x/(m*Cp)"
   ]
  },
  {
   "cell_type": "code",
   "execution_count": 100,
   "id": "e9519ba0",
   "metadata": {},
   "outputs": [],
   "source": [
    "for i in range(1,len(t)):        \n",
    "    dTdt[1:n]=(q_flux*2*pi*r*dx + m*Cp*(T[0:n-1]-T[1:n]))/(rho*Cp*pi*dx*r**2)\n",
    "    dTdt[0]=(q_flux*2*pi*r*dx + m*Cp*(Ti-T[0]))/(rho*Cp*pi*dx*r**2)\n",
    "    \n",
    "    T=T+dTdt*dt\n",
    "    T_i[i,:]=T"
   ]
  },
  {
   "cell_type": "code",
   "execution_count": 103,
   "id": "e5cec3b2",
   "metadata": {},
   "outputs": [],
   "source": [
    "def map(T_i):\n",
    "    plt.clf()\n",
    "    plt.plot(x,T_i,color='blue',label='Transient State')\n",
    "    plt.plot(x,Tss,color='red',label='Steady State')\n",
    "    plt.xlabel('Distance') \n",
    "    plt.ylabel('Temperature')\n",
    "    plt.axis([0,L,298,750])\n",
    "    return plt"
   ]
  },
  {
   "cell_type": "code",
   "execution_count": 104,
   "id": "1f710fcc",
   "metadata": {},
   "outputs": [
    {
     "name": "stderr",
     "output_type": "stream",
     "text": [
      "MovieWriter ffmpeg unavailable; using Pillow instead.\n"
     ]
    },
    {
     "data": {
      "image/png": "[encoded data removed]",
      "text/plain": [
       "<Figure size 432x288 with 1 Axes>"
      ]
     },
     "metadata": {
      "needs_background": "light"
     },
     "output_type": "display_data"
    }
   ],
   "source": [
    "def animate(i):\n",
    "    map(T_i[i,:])\n",
    "anim = animation.FuncAnimation(plt.figure(), animate, interval=dt, frames=t_final, repeat=False)\n",
    "anim.save(\"Temperature_grid.gif\")\n",
    "plt.draw()\n",
    "plt.show()"
   ]
  },
  {
   "cell_type": "code",
   "execution_count": null,
   "id": "fb3c89a0",
   "metadata": {},
   "outputs": [],
   "source": []
  }
 ],
 "metadata": {
  "kernelspec": {
   "display_name": "Python 3 (ipykernel)",
   "language": "python",
   "name": "python3"
  },
  "language_info": {
   "codemirror_mode": {
    "name": "ipython",
    "version": 3
   },
   "file_extension": ".py",
   "mimetype": "text/x-python",
   "name": "python",
   "nbconvert_exporter": "python",
   "pygments_lexer": "ipython3",
   "version": "3.9.12"
  }
 },
 "nbformat": 4,
 "nbformat_minor": 5
}
