{
 "cells": [
  {
   "cell_type": "code",
   "execution_count": 1,
   "id": "fac806bd",
   "metadata": {},
   "outputs": [],
   "source": [
    "import numpy as np\n",
    "import matplotlib.pyplot as plt\n",
    "import matplotlib.animation as animation\n",
    "from matplotlib.animation import FuncAnimation"
   ]
  },
  {
   "cell_type": "code",
   "execution_count": 2,
   "id": "14d4acd8",
   "metadata": {},
   "outputs": [],
   "source": [
    "#given parameters\n",
    "L=60\n",
    "r1=0.1\n",
    "r2=0.15\n",
    "n=100\n",
    "m1=3\n",
    "Cp1=4180\n",
    "rho1=1000\n",
    "m2=5\n",
    "Cp2=4180\n",
    "rho2=1000\n",
    "T0=300\n",
    "T1i=400\n",
    "T2i=800\n",
    "U=340\n",
    "pi=3.14159\n",
    "Ac1=pi*r1**2\n",
    "Ac2=pi*(r2**2-r1**2)\n",
    "t_final=1000\n",
    "dt=1\n",
    "dx=L/n"
   ]
  },
  {
   "cell_type": "code",
   "execution_count": 3,
   "id": "82622e65",
   "metadata": {},
   "outputs": [],
   "source": [
    "x=np.linspace(dx,L-dx/2,n)\n",
    "T1=np.zeros(n)\n",
    "dTdt1=np.zeros(n)\n",
    "T2=np.zeros(n)\n",
    "dTdt2=np.zeros(n)\n",
    "\n",
    "T1.fill(T0)\n",
    "T2.fill(T0)\n",
    "T_1=np.zeros((t_final,n))\n",
    "T_2=np.zeros((t_final,n))\n",
    "t=np.arange(0,t_final,dt)"
   ]
  },
  {
   "cell_type": "code",
   "execution_count": 4,
   "id": "6f6bbbb7",
   "metadata": {},
   "outputs": [],
   "source": [
    "for i in range(1,len(t)):        \n",
    "    dTdt1[1:n]=(U*2*pi*r1*dx*(T2[1:n]-T1[1:n])+ m1*Cp1*(T1[0:n-1]-T1[1:n]))/(rho1*Cp1*Ac1*dx)\n",
    "    dTdt1[0]=(U*2*pi*r1*dx*(T2i-T1i) + m1*Cp1*(T1i-T1[0]))/(rho1*Cp1*Ac1*dx)\n",
    "    \n",
    "    dTdt2[1:n]=(U*2*pi*r2*dx*(T1[1:n]-T2[1:n])+ m2*Cp2*(T2[0:n-1]-T2[1:n]))/(rho2*Cp2*Ac2*dx)\n",
    "    dTdt2[0]=(U*2*pi*r2*dx*(T1i-T2i) + m2*Cp2*(T2i-T2[0]))/(rho2*Cp2*Ac2*dx)\n",
    "    \n",
    "    T1=T1 + dTdt1*dt\n",
    "    T_1[i,:]=T1\n",
    "    T2=T2 + dTdt2*dt\n",
    "    T_2[i,:]=T2"
   ]
  },
  {
   "cell_type": "code",
   "execution_count": 5,
   "id": "648812d1",
   "metadata": {},
   "outputs": [],
   "source": [
    "def map(T_1,T_2):\n",
    "    plt.clf()\n",
    "    plt.plot(x,T_1,label=\"Inner Pipe\")\n",
    "    plt.plot(x,T_2,label=\"Outer Pipe\")\n",
    "    plt.xlabel('Distance') \n",
    "    plt.ylabel('Temperature')\n",
    "    plt.legend()\n",
    "    plt.axis([0,L,200,1000])\n",
    "    return plt"
   ]
  },
  {
   "cell_type": "code",
   "execution_count": 6,
   "id": "00be1de5",
   "metadata": {},
   "outputs": [
    {
     "name": "stderr",
     "output_type": "stream",
     "text": [
      "MovieWriter ffmpeg unavailable; using Pillow instead.\n"
     ]
    },
    {
     "data": {
      "image/png": "[encoded data removed]",
      "text/plain": [
       "<Figure size 432x288 with 1 Axes>"
      ]
     },
     "metadata": {
      "needs_background": "light"
     },
     "output_type": "display_data"
    }
   ],
   "source": [
    "def animate(i):\n",
    "    map(T_1[i,:],T_2[i,:])\n",
    "\n",
    "anim = animation.FuncAnimation(plt.figure(), animate, interval=dt, frames=t_final, repeat=False)\n",
    "anim.save(\"Heat_Exchangers1.gif\")\n",
    "plt.draw()\n",
    "plt.show()"
   ]
  },
  {
   "cell_type": "code",
   "execution_count": null,
   "id": "335f7a8f",
   "metadata": {},
   "outputs": [],
   "source": []
  }
 ],
 "metadata": {
  "kernelspec": {
   "display_name": "Python 3 (ipykernel)",
   "language": "python",
   "name": "python3"
  },
  "language_info": {
   "codemirror_mode": {
    "name": "ipython",
    "version": 3
   },
   "file_extension": ".py",
   "mimetype": "text/x-python",
   "name": "python",
   "nbconvert_exporter": "python",
   "pygments_lexer": "ipython3",
   "version": "3.8.3"
  }
 },
 "nbformat": 4,
 "nbformat_minor": 5
}
